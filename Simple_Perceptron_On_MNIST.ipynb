{
  "nbformat": 4,
  "nbformat_minor": 0,
  "metadata": {
    "colab": {
      "provenance": []
    },
    "kernelspec": {
      "name": "python3",
      "display_name": "Python 3"
    },
    "language_info": {
      "name": "python"
    }
  },
  "cells": [
    {
      "cell_type": "markdown",
      "source": [
        "# **Task 1:Load and preprocess the dataset**<br>\n",
        "*\tImport the required libraries (NumPy and Matplotlib)\n",
        "*\tLoad the dataset (linearly separable) using the load_data() method\n",
        "*\tNormalize the dataset by dividing the pixel values by 255\n",
        "*\tSplit the dataset into training and test sets using train_test_split() method.\n",
        "\n",
        "\n"
      ],
      "metadata": {
        "id": "wC_QEsdX3xn6"
      }
    },
    {
      "cell_type": "code",
      "execution_count": null,
      "metadata": {
        "colab": {
          "base_uri": "https://localhost:8080/"
        },
        "id": "EJid-vUG15rD",
        "outputId": "5a511777-288f-48ea-819d-b09bce717a02"
      },
      "outputs": [
        {
          "output_type": "stream",
          "name": "stdout",
          "text": [
            "(60000, 28, 28)\n",
            "(10000, 28, 28)\n"
          ]
        }
      ],
      "source": [
        "from keras.datasets import mnist\n",
        "import numpy as np\n",
        "import matplotlib.pyplot as plt\n",
        "data = mnist.load_data()\n",
        "(X_train, y_train), (X_test, y_test) = data\n",
        "X_train[0].shape\n",
        "print(X_train.shape)\n",
        "print(X_test.shape)\n"
      ]
    },
    {
      "cell_type": "code",
      "source": [
        "X_train = X_train.astype('float32')\n",
        "X_test = X_test.astype('float32')"
      ],
      "metadata": {
        "id": "GFEMXBDC8RWU"
      },
      "execution_count": null,
      "outputs": []
    },
    {
      "cell_type": "code",
      "source": [
        "X_train = X_train / 255\n",
        "X_test = X_test / 255"
      ],
      "metadata": {
        "id": "C_WIcSov8WYD"
      },
      "execution_count": null,
      "outputs": []
    },
    {
      "cell_type": "markdown",
      "source": [
        "**# Task 2:Visualize the dataset**\n",
        "*\tVisualize some random images from the dataset using Matplotlib's imshow() method"
      ],
      "metadata": {
        "id": "SDRT8slQ8grN"
      }
    },
    {
      "cell_type": "code",
      "source": [
        "from matplotlib import pyplot\n",
        "for i in range(5):  \n",
        "  pyplot.subplot(380 + 1 + i)\n",
        "  pyplot.imshow(X_train[i], cmap=pyplot.get_cmap('gray'))\n",
        "  pyplot.show()\n"
      ],
      "metadata": {
        "colab": {
          "base_uri": "https://localhost:8080/",
          "height": 367
        },
        "id": "BWkhvooo8s6Q",
        "outputId": "334a8188-2506-4093-98c1-fffa66555036"
      },
      "execution_count": null,
      "outputs": [
        {
          "output_type": "display_data",
          "data": {
            "text/plain": [
              "<Figure size 432x288 with 1 Axes>"
            ],
            "image/png": "[encoded data removed]"
          },
          "metadata": {
            "needs_background": "light"
          }
        },
        {
          "output_type": "display_data",
          "data": {
            "text/plain": [
              "<Figure size 432x288 with 1 Axes>"
            ],
            "image/png": "[encoded data removed]"
          },
          "metadata": {
            "needs_background": "light"
          }
        },
        {
          "output_type": "display_data",
          "data": {
            "text/plain": [
              "<Figure size 432x288 with 1 Axes>"
            ],
            "image/png": "[encoded data removed]"
          },
          "metadata": {
            "needs_background": "light"
          }
        },
        {
          "output_type": "display_data",
          "data": {
            "text/plain": [
              "<Figure size 432x288 with 1 Axes>"
            ],
            "image/png": "[encoded data removed]"
          },
          "metadata": {
            "needs_background": "light"
          }
        },
        {
          "output_type": "display_data",
          "data": {
            "text/plain": [
              "<Figure size 432x288 with 1 Axes>"
            ],
            "image/png": "[encoded data removed]"
          },
          "metadata": {
            "needs_background": "light"
          }
        }
      ]
    },
    {
      "cell_type": "markdown",
      "source": [
        "# **Task 3: Implement the Simple Perceptron model**"
      ],
      "metadata": {
        "id": "KIozOsrZDkZo"
      }
    },
    {
      "cell_type": "markdown",
      "source": [
        "*\tDefine the Simple Perceptron model with a single layer of output nodes and no hidden layers\n",
        "* Implement the forward propagation algorithm to compute the output of the model\n",
        "* Implement the backward propagation algorithm to update the weights and bias term of the model\n",
        "* For weight update, use the formula given below:<br>\n",
        "w_i = w_i + Δw_i <br>\n",
        "where Δw_i = η (t - o) x_i\n",
        "\n",
        "\n",
        "Where:\n",
        "-\tt is actual value\n",
        "-\to is perceptron output\n",
        "-\tη is small constant (0.001) called learning rate\n",
        "\n"
      ],
      "metadata": {
        "id": "vDFkfYb0DsvK"
      }
    },
    {
      "cell_type": "markdown",
      "source": [
        "# **Task 4: Train the Simple Perceptron model**\n",
        "* Set the number of epochs and the learning rate for the training process\n",
        "* Iterate over the training examples and adjust the weights and bias term using the above equation <br>\n",
        "\n"
      ],
      "metadata": {
        "id": "MjRC1a-6LA1x"
      }
    },
    {
      "cell_type": "markdown",
      "source": [
        "# **Task 5: Evaluate the performance of the Simple Perceptron model on the test set**\n",
        "* Compute the accuracy of the Simple Perceptron model on the test set"
      ],
      "metadata": {
        "id": "k6J8ticeLbjX"
      }
    },
    {
      "cell_type": "code",
      "source": [
        "import numpy as np\n",
        "\n",
        "class SimpleBinaryPerceptron:\n",
        "        \n",
        "        #Initialize the CustomPerceptron model with the number of iterations, \n",
        "        #random state for initializing weights, and the learning rate to update \n",
        "        #the weights during training.\n",
        "        \n",
        "    def __init__(self, max_iterations=100, random_state=32, learning_rate=0.01):\n",
        "        self.max_iterations = max_iterations\n",
        "        self.random_state = random_state\n",
        "        self.learning_rate = learning_rate\n",
        "      \n",
        "        \n",
        "    def fit(self, X, y):\n",
        "      \n",
        "        #Fit the CustomPerceptron model to the training data X and corresponding target labels y.\n",
        "        \n",
        "\n",
        "        # Initialize random weights\n",
        "        rgen = np.random.RandomState(self.random_state)\n",
        "        self.weights_ = rgen.normal(loc=0.0, scale=0.01, size=1 + X.shape[1])\n",
        "\n",
        "         # Track errors for each iteration\n",
        "        self.errors_ = []\n",
        "         # Train the model for the specified number of iterations\n",
        "        for _ in range(self.max_iterations):\n",
        "            num_errors = 0\n",
        "            \n",
        "            \n",
        "             # Update weights for each training example\n",
        "            for xi, target in zip(X, y):\n",
        "                update = self.learning_rate * (target - self.predict(xi))\n",
        "                self.weights_[1:] += update * xi\n",
        "                self.weights_[0] += update\n",
        "                num_errors += int(update != 0.0)\n",
        "            # Record the number of errors for the current iteration\n",
        "            self.errors_.append(num_errors)\n",
        "                \n",
        "        return self\n",
        "    \n",
        "    def net_input(self, X):\n",
        "      \n",
        "        #Calculate the weighted sum of inputs.\n",
        "      \n",
        "        return np.dot(X, self.weights_[1:]) + self.weights_[0]\n",
        "    \n",
        "    def predict(self, X):\n",
        "        \n",
        "        #Make predictions based on the sign of the net input.\n",
        "        \n",
        "        return np.where(self.net_input(X) >= 0, 1, 0)\n",
        "    \n",
        "    def score(self, X, y):\n",
        "      \n",
        "        #Calculate the accuracy of the model on the input data X and corresponding target labels y.\n",
        "        \n",
        "        predictions = self.predict(X)\n",
        "        accuracy = np.mean(predictions == y)\n",
        "        return accuracy\n"
      ],
      "metadata": {
        "id": "j8H1X3HvJnl2"
      },
      "execution_count": 55,
      "outputs": []
    },
    {
      "cell_type": "code",
      "source": [
        "model = SimpleBinaryPerceptron(max_iterations=10)\n",
        "# Fit the model\n",
        "model.fit(X_train, y_train)\n",
        "\n",
        "# Score the model on the test and train sets\n",
        "test_score = model.score(X_test, y_test)\n",
        "train_score = model.score(X_train, y_train)\n",
        "\n",
        "print(\"Test set score:\", test_score)\n",
        "print(\"Train set score:\", train_score)"
      ],
      "metadata": {
        "colab": {
          "base_uri": "https://localhost:8080/"
        },
        "id": "SRoTU6x2CAfQ",
        "outputId": "9b013b2f-e4fe-4535-9fcc-5802958114fa"
      },
      "execution_count": 58,
      "outputs": [
        {
          "output_type": "stream",
          "name": "stdout",
          "text": [
            "Test set score: 0.1135\n",
            "Train set score: 0.11236666666666667\n"
          ]
        }
      ]
    },
    {
      "cell_type": "markdown",
      "source": [
        "# **Task 6: Analysis on the results**\n",
        "* Are the accuracy scores satisfactory or not? If not, what measures can be taken to improve the accuracy scores? Please express your ideas in your own words.\n"
      ],
      "metadata": {
        "id": "7J-2lR92Lfcs"
      }
    },
    {
      "cell_type": "code",
      "source": [
        "print(f\"Test Accuracy Percentage: {test_score * 100 } %\")\n",
        "print(f\"Train Accuracy Percentage: {round(train_score * 100 , 2) } %\")"
      ],
      "metadata": {
        "colab": {
          "base_uri": "https://localhost:8080/"
        },
        "id": "o4U8WXV4fcOb",
        "outputId": "f545c941-708c-44bd-d5e4-e550cd56a98a"
      },
      "execution_count": 68,
      "outputs": [
        {
          "output_type": "stream",
          "name": "stdout",
          "text": [
            "Test Accuracy Percentage: 11.35 %\n",
            "Train Accuracy Percentage: 11.24 %\n"
          ]
        }
      ]
    },
    {
      "cell_type": "markdown",
      "source": [
        "The accuracy score is not satisfactoty since it is very low. The reason being that it is a simple binary implementation of perceptron and it classifies the digits accordingly. So weights are updated more frequently. <br>\n",
        "The accuracy can be improved by using batch processing, using optimizer such as 'adam' and being implemented in such a way to give more than two classification not just binary classification.\n",
        "\n"
      ],
      "metadata": {
        "id": "_-2wpUPCfVLm"
      }
    }
  ]
}